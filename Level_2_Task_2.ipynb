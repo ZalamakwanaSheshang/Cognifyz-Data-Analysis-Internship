{
 "cells": [
  {
   "cell_type": "markdown",
   "id": "b29a100c-b841-419a-aee1-04a1fce5145e",
   "metadata": {},
   "source": [
    "# Zalamakwana Sheshang N"
   ]
  },
  {
   "cell_type": "markdown",
   "id": "91fd5177-64e0-4970-a930-6e0029a3d6fc",
   "metadata": {},
   "source": [
    "# Level 2\n",
    "### Task 2: Cuisine Combination\n",
    "### Identify the most common combinations of cuisines in the dataset.\n",
    "### Determine if certain cuisine combinations tend to have higher ratings.\n"
   ]
  },
  {
   "cell_type": "markdown",
   "id": "eda0c64c-ff88-4739-8711-a26cce9d8789",
   "metadata": {},
   "source": [
    "# 1. Importing Essential Libraries and Dataset"
   ]
  },
  {
   "cell_type": "code",
   "execution_count": 1,
   "id": "53cb2d65",
   "metadata": {},
   "outputs": [],
   "source": [
    "# Importing Libraries\n",
    "import pandas as pd\n",
    "import matplotlib.pyplot as plt\n",
    "\n",
    "# Importing Dataset\n",
    "df = pd.read_csv(\"C:\\\\Users\\\\Zala Sheshang\\\\Desktop\\\\Cognifyz_Internship\\\\Dataset .csv\")"
   ]
  },
  {
   "cell_type": "markdown",
   "id": "977c21b1-87ce-406a-8286-aa7f7b9c45b8",
   "metadata": {},
   "source": [
    "# 2. Identifying the most common combination of cuisines in the dataset."
   ]
  },
  {
   "cell_type": "code",
   "execution_count": 2,
   "id": "f76a6b06",
   "metadata": {},
   "outputs": [
    {
     "name": "stdout",
     "output_type": "stream",
     "text": [
      "Most common cuisine combinations:\n",
      "Cuisines\n",
      "North Indian                      936\n",
      "North Indian, Chinese             511\n",
      "Chinese                           354\n",
      "Fast Food                         354\n",
      "North Indian, Mughlai             334\n",
      "Cafe                              299\n",
      "Bakery                            218\n",
      "North Indian, Mughlai, Chinese    197\n",
      "Bakery, Desserts                  170\n",
      "Street Food                       149\n",
      "Name: count, dtype: int64\n"
     ]
    }
   ],
   "source": [
    "# Extracting the cusines data and aggregate rating\n",
    "cuisines = df[\"Cuisines\"]\n",
    "aggregate_ratings = df[\"Aggregate rating\"]\n",
    "\n",
    "# find common cuisines using value_counts()\n",
    "cuisines_combinations_counts = cuisines.value_counts()\n",
    "\n",
    "# Consider top 10 cuisines as Most Common cuisine combinations\n",
    "print(\"Most common cuisine combinations:\")\n",
    "print(cuisines_combinations_counts.head(10))"
   ]
  },
  {
   "cell_type": "markdown",
   "id": "4e321166-8d48-4888-b6f0-04e1626264df",
   "metadata": {},
   "source": [
    "# 3. Cuisines combinations with higher average rating."
   ]
  },
  {
   "cell_type": "code",
   "execution_count": 3,
   "id": "05cfa278",
   "metadata": {},
   "outputs": [
    {
     "name": "stdout",
     "output_type": "stream",
     "text": [
      "Average ratings of top 20 cuisine combinations:\n",
      "Cuisines\n",
      "American, BBQ, Sandwich            4.90\n",
      "American, Burger, Grill            4.90\n",
      "American, Caribbean, Seafood       4.90\n",
      "American, Coffee and Tea           4.90\n",
      "American, Sandwich, Tea            4.90\n",
      "BBQ, Breakfast, Southern           4.90\n",
      "Burger, Bar Food, Steak            4.90\n",
      "Continental, Indian                4.90\n",
      "European, Asian, Indian            4.90\n",
      "European, Contemporary             4.90\n",
      "European, German                   4.90\n",
      "Hawaiian, Seafood                  4.90\n",
      "Italian, Bakery, Continental       4.90\n",
      "Italian, Deli                      4.90\n",
      "Mexican, American, Healthy Food    4.90\n",
      "Mughlai, Lucknowi                  4.90\n",
      "Sunda, Indonesian                  4.90\n",
      "World Cuisine                      4.90\n",
      "Filipino, Mexican                  4.85\n",
      "Beverages, International           4.80\n",
      "Name: Aggregate rating, dtype: float64\n"
     ]
    }
   ],
   "source": [
    "cuisines_combinations_avrg_rating = df.groupby(\"Cuisines\")[\"Aggregate rating\"].mean()\n",
    "\n",
    "print(\"Average ratings of top 20 cuisine combinations:\")\n",
    "print(cuisines_combinations_avrg_rating.nlargest(20))"
   ]
  },
  {
   "cell_type": "code",
   "execution_count": null,
   "id": "10da865e-7816-4c50-8f44-7bee318b36f0",
   "metadata": {},
   "outputs": [],
   "source": []
  }
 ],
 "metadata": {
  "kernelspec": {
   "display_name": "Python 3",
   "language": "python",
   "name": "python3"
  },
  "language_info": {
   "codemirror_mode": {
    "name": "ipython",
    "version": 3
   },
   "file_extension": ".py",
   "mimetype": "text/x-python",
   "name": "python",
   "nbconvert_exporter": "python",
   "pygments_lexer": "ipython3",
   "version": "3.11.7"
  }
 },
 "nbformat": 4,
 "nbformat_minor": 5
}
