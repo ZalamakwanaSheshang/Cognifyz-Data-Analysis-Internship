{
 "cells": [
  {
   "cell_type": "markdown",
   "id": "5301c10b-4eca-4f23-b4ef-0934442d0919",
   "metadata": {},
   "source": [
    "# Zalamakwana Sheshang N"
   ]
  },
  {
   "cell_type": "markdown",
   "id": "333abde5-ffc8-4661-beff-284b9ee8755d",
   "metadata": {},
   "source": [
    "# Level 3\n",
    "## Task 1: Restaurant Reviews\n",
    "### Analyze the text reviews to identify the most common positive and negative keywords.\n",
    "### Calculate the average length of reviews and explore if there is a relationship between review length and rating"
   ]
  },
  {
   "cell_type": "code",
   "execution_count": 1,
   "id": "0270a91b",
   "metadata": {},
   "outputs": [
    {
     "name": "stderr",
     "output_type": "stream",
     "text": [
      "[nltk_data] Downloading package stopwords to C:\\Users\\Zala\n",
      "[nltk_data]     Sheshang\\AppData\\Roaming\\nltk_data...\n",
      "[nltk_data]   Package stopwords is already up-to-date!\n",
      "[nltk_data] Downloading package punkt to C:\\Users\\Zala\n",
      "[nltk_data]     Sheshang\\AppData\\Roaming\\nltk_data...\n",
      "[nltk_data]   Package punkt is already up-to-date!\n"
     ]
    },
    {
     "data": {
      "text/plain": [
       "True"
      ]
     },
     "execution_count": 1,
     "metadata": {},
     "output_type": "execute_result"
    }
   ],
   "source": [
    "import nltk\n",
    "nltk.download('stopwords')\n",
    "nltk.download('punkt')"
   ]
  },
  {
   "cell_type": "markdown",
   "id": "d50af200-7b7c-478a-8de8-0b280abbef03",
   "metadata": {},
   "source": [
    "# 1. Import Essential Libraries and Dataset"
   ]
  },
  {
   "cell_type": "code",
   "execution_count": 2,
   "id": "f2ad568d",
   "metadata": {},
   "outputs": [],
   "source": [
    "# Importing Libraries\n",
    "import pandas as pd\n",
    "import matplotlib.pyplot as plt\n",
    "import nltk\n",
    "from nltk.corpus import stopwords\n",
    "from nltk.sentiment.vader import SentimentIntensityAnalyzer\n",
    "\n",
    "# importing Dataset\n",
    "df = pd.read_csv(\"C:\\\\Users\\\\Zala Sheshang\\\\Desktop\\\\Cognifyz_Internship\\\\Dataset .csv\")"
   ]
  },
  {
   "cell_type": "code",
   "execution_count": 3,
   "id": "8544fd54",
   "metadata": {},
   "outputs": [
    {
     "data": {
      "text/plain": [
       "0       Excellent\n",
       "1       Excellent\n",
       "2       Very Good\n",
       "3       Excellent\n",
       "4       Excellent\n",
       "          ...    \n",
       "9546    Very Good\n",
       "9547    Very Good\n",
       "9548         Good\n",
       "9549    Very Good\n",
       "9550    Very Good\n",
       "Name: Rating text, Length: 9551, dtype: object"
      ]
     },
     "execution_count": 3,
     "metadata": {},
     "output_type": "execute_result"
    }
   ],
   "source": [
    "# Find out Review text (Rating text)\n",
    "reviews = df['Rating text']\n",
    "reviews"
   ]
  },
  {
   "cell_type": "markdown",
   "id": "db49a610-4496-41e0-a8d8-8744b6756db6",
   "metadata": {},
   "source": [
    "# 2. most common positive and negative keywords."
   ]
  },
  {
   "cell_type": "code",
   "execution_count": 4,
   "id": "72abf2b2",
   "metadata": {},
   "outputs": [
    {
     "name": "stderr",
     "output_type": "stream",
     "text": [
      "[nltk_data] Downloading package vader_lexicon to C:\\Users\\Zala\n",
      "[nltk_data]     Sheshang\\AppData\\Roaming\\nltk_data...\n",
      "[nltk_data]   Package vader_lexicon is already up-to-date!\n"
     ]
    },
    {
     "data": {
      "text/plain": [
       "True"
      ]
     },
     "execution_count": 4,
     "metadata": {},
     "output_type": "execute_result"
    }
   ],
   "source": [
    "nltk.download('vader_lexicon')"
   ]
  },
  {
   "cell_type": "code",
   "execution_count": 5,
   "id": "56e40daf",
   "metadata": {},
   "outputs": [],
   "source": [
    "df['Review text'] = df['Rating text'].fillna('')"
   ]
  },
  {
   "cell_type": "code",
   "execution_count": 6,
   "id": "8c10e403",
   "metadata": {},
   "outputs": [],
   "source": [
    "sentiment_analyzer = SentimentIntensityAnalyzer()"
   ]
  },
  {
   "cell_type": "code",
   "execution_count": 7,
   "id": "fe0d6621",
   "metadata": {},
   "outputs": [],
   "source": [
    "def get_sentiment_score(text):\n",
    "    return sentiment_analyzer.polarity_scores(text)['compound']\n",
    "\n",
    "df['Sentiment Score'] = reviews.apply(get_sentiment_score)\n",
    "df['Sentiment'] = df['Sentiment Score'].apply(lambda score: 'Positive' if score >= 0 else 'Negative')\n"
   ]
  },
  {
   "cell_type": "code",
   "execution_count": 8,
   "id": "77ff64a4",
   "metadata": {},
   "outputs": [
    {
     "name": "stdout",
     "output_type": "stream",
     "text": [
      "\n",
      "Stop Words\n",
      " {'to', 'such', 'she', 'and', 'here', 'weren', 'your', 'themselves', 'do', 'above', \"shan't\", 'until', \"that'll\", \"she's\", 'o', 'who', 'which', \"couldn't\", 'him', 'than', 'whom', 'shan', \"doesn't\", 'now', 'i', 'a', 'd', 'hers', 'same', 'won', 'or', 'hadn', 'ours', 'them', 'into', 'before', 'haven', \"weren't\", 'no', 'after', 'why', 'they', 'y', 'yourself', 'where', 'can', 'because', 'this', 'most', \"won't\", 'his', 'had', 'further', \"aren't\", 'herself', \"haven't\", 'shouldn', 'he', 'mustn', 've', 'ourselves', 'that', \"you're\", 'yours', \"needn't\", 'we', 'an', 'isn', 'its', 'mightn', 'about', \"you'd\", 'should', \"mustn't\", 'once', 's', 'the', 'some', 'will', 'more', 'of', 'these', 'was', 'being', 'from', 'but', 'having', 'all', \"hasn't\", \"shouldn't\", 're', 'needn', 'below', 'me', 'through', 'just', 'it', 'is', 'if', 'then', \"wouldn't\", 'itself', 'those', 'be', 'other', 'under', 'couldn', 'aren', 'up', 'there', 'wouldn', 'in', 'ma', 'over', 'against', 'their', 'ain', 'few', 'theirs', 'as', 'did', 'doesn', \"wasn't\", 'at', \"isn't\", 'are', 'on', 'my', 'by', 'any', \"should've\", 'yourselves', 'with', 'himself', 'have', 'too', 'were', \"don't\", 'myself', 'hasn', 'during', 'both', 'not', 'doing', 'our', 'wasn', 'so', \"hadn't\", \"you've\", \"it's\", 'does', 'didn', 'how', 'what', 'has', 'am', 'between', 'off', \"didn't\", \"mightn't\", 'been', 'don', 'nor', 'each', 'you', 'again', 'for', 'while', 'out', 'very', 'down', 't', 'm', 'only', 'll', \"you'll\", 'when', 'her', 'own'}\n",
      "\n",
      "Positive words\n",
      " {'excellent': 301, 'good': 3179, 'average': 3737, 'rated': 2148}\n",
      "\n",
      "Negative Words\n",
      " {'poor': 186}\n"
     ]
    }
   ],
   "source": [
    "positive_keywords = {}\n",
    "negative_keywords = {}\n",
    "\n",
    "stop_words = set(stopwords.words('english'))\n",
    "\n",
    "for index, row in df.iterrows():\n",
    "    words = nltk.word_tokenize(row['Review text'].lower())\n",
    "    filtered_words = [word for word in words if word.isalpha() and word not in stop_words]\n",
    "    \n",
    "    for word in filtered_words:\n",
    "        if row['Sentiment'] == 'Positive':\n",
    "            positive_keywords[word] = positive_keywords.get(word, 0) + 1\n",
    "        else:\n",
    "            negative_keywords[word] = negative_keywords.get(word, 0) + 1\n",
    "print(\"\\nStop Words\\n\",stop_words)\n",
    "print(\"\\nPositive words\\n\", positive_keywords)\n",
    "print(\"\\nNegative Words\\n\",negative_keywords)"
   ]
  },
  {
   "cell_type": "code",
   "execution_count": 9,
   "id": "63ed08e3",
   "metadata": {},
   "outputs": [
    {
     "name": "stdout",
     "output_type": "stream",
     "text": [
      "\n",
      "Top Positive Keywords:\n",
      " {'average': 3737, 'good': 3179, 'rated': 2148, 'excellent': 301}\n",
      "\n",
      "Top Negative Keywords:\n",
      " {'poor': 186}\n"
     ]
    }
   ],
   "source": [
    "top_positive_keywords = dict(sorted(positive_keywords.items(), key=lambda item: item[1], reverse=True)[:10])\n",
    "top_negative_keywords = dict(sorted(negative_keywords.items(), key=lambda item: item[1], reverse=True)[:10])\n",
    "\n",
    "\n",
    "print(\"\\nTop Positive Keywords:\\n\", top_positive_keywords)\n",
    "print(\"\\nTop Negative Keywords:\\n\", top_negative_keywords)"
   ]
  },
  {
   "cell_type": "markdown",
   "id": "48d0fbf4-2098-405b-99a1-9d10bf1cf1bf",
   "metadata": {},
   "source": [
    "# 3. Average length of reviews"
   ]
  },
  {
   "cell_type": "code",
   "execution_count": 10,
   "id": "267f7d45",
   "metadata": {},
   "outputs": [
    {
     "name": "stdout",
     "output_type": "stream",
     "text": [
      "\n",
      "Average Length of Reviews:\n",
      " 1.3378703800649148\n"
     ]
    }
   ],
   "source": [
    "df['Review Length'] = df['Review text'].apply(lambda x: len(nltk.word_tokenize(x)))\n",
    "average_review_length = df['Review Length'].mean()\n",
    "print(\"\\nAverage Length of Reviews:\\n\", average_review_length)"
   ]
  },
  {
   "cell_type": "markdown",
   "id": "2d2c9640-a8c3-4960-a929-9fd3b2659e67",
   "metadata": {},
   "source": [
    "# 4. Relationship between review length and rating"
   ]
  },
  {
   "cell_type": "code",
   "execution_count": 11,
   "id": "70ea6fca",
   "metadata": {},
   "outputs": [],
   "source": [
    "df['Rating color'] = pd.to_numeric(df['Rating color'], errors='coerce')"
   ]
  },
  {
   "cell_type": "code",
   "execution_count": 12,
   "id": "4c05a4a2",
   "metadata": {},
   "outputs": [],
   "source": [
    "average_length_by_rating = df.groupby('Rating color')['Review Length'].mean()"
   ]
  },
  {
   "cell_type": "code",
   "execution_count": 13,
   "id": "35a1c98b",
   "metadata": {},
   "outputs": [
    {
     "data": {
      "image/png": "[encoded data removed]",
      "text/plain": [
       "<Figure size 640x480 with 1 Axes>"
      ]
     },
     "metadata": {},
     "output_type": "display_data"
    }
   ],
   "source": [
    "plt.scatter(df['Review Length'], df['Rating color'])\n",
    "plt.xlabel('Review Length')\n",
    "plt.ylabel('Rating color')\n",
    "plt.title('Relationship Between Review Length and Rating')\n",
    "plt.show()"
   ]
  },
  {
   "cell_type": "code",
   "execution_count": 14,
   "id": "5c9aaf71",
   "metadata": {},
   "outputs": [
    {
     "name": "stdout",
     "output_type": "stream",
     "text": [
      "\n",
      "Relationship between Review Length and Rating: nan\n"
     ]
    }
   ],
   "source": [
    "correlation_coefficient = df['Review Length'].corr(df['Rating color'])\n",
    "print(\"\\nRelationship between Review Length and Rating:\", correlation_coefficient)"
   ]
  },
  {
   "cell_type": "code",
   "execution_count": null,
   "id": "a114c6df-72d8-4cf8-9f19-a2ed5a216406",
   "metadata": {},
   "outputs": [],
   "source": []
  }
 ],
 "metadata": {
  "kernelspec": {
   "display_name": "Python 3",
   "language": "python",
   "name": "python3"
  },
  "language_info": {
   "codemirror_mode": {
    "name": "ipython",
    "version": 3
   },
   "file_extension": ".py",
   "mimetype": "text/x-python",
   "name": "python",
   "nbconvert_exporter": "python",
   "pygments_lexer": "ipython3",
   "version": "3.11.7"
  }
 },
 "nbformat": 4,
 "nbformat_minor": 5
}
