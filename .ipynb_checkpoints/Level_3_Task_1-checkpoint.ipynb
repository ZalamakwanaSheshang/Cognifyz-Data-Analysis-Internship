{
 "cells": [
  {
   "cell_type": "markdown",
   "id": "5301c10b-4eca-4f23-b4ef-0934442d0919",
   "metadata": {},
   "source": [
    "# Zalamakwana Sheshang N"
   ]
  },
  {
   "cell_type": "markdown",
   "id": "333abde5-ffc8-4661-beff-284b9ee8755d",
   "metadata": {},
   "source": [
    "# Level 3\n",
    "### Task 1: Restaurant Reviews\n",
    "### Analyze the text reviews to identify the most common positive and negative keywords.\n",
    "### Calculate the average length of reviews and explore if there is a relationship between review length and rating"
   ]
  },
  {
   "cell_type": "code",
   "execution_count": 3,
   "id": "0270a91b",
   "metadata": {},
   "outputs": [
    {
     "name": "stderr",
     "output_type": "stream",
     "text": [
      "[nltk_data] Downloading package stopwords to C:\\Users\\Zala\n",
      "[nltk_data]     Sheshang\\AppData\\Roaming\\nltk_data...\n",
      "[nltk_data]   Package stopwords is already up-to-date!\n",
      "[nltk_data] Downloading package punkt to C:\\Users\\Zala\n",
      "[nltk_data]     Sheshang\\AppData\\Roaming\\nltk_data...\n",
      "[nltk_data]   Package punkt is already up-to-date!\n"
     ]
    },
    {
     "data": {
      "text/plain": [
       "True"
      ]
     },
     "execution_count": 3,
     "metadata": {},
     "output_type": "execute_result"
    }
   ],
   "source": [
    "import nltk\n",
    "nltk.download('stopwords')\n",
    "nltk.download('punkt')"
   ]
  },
  {
   "cell_type": "markdown",
   "id": "d50af200-7b7c-478a-8de8-0b280abbef03",
   "metadata": {},
   "source": [
    "# 1. Import Essential Libraries and Dataset"
   ]
  },
  {
   "cell_type": "code",
   "execution_count": 11,
   "id": "f2ad568d",
   "metadata": {},
   "outputs": [],
   "source": [
    "# Importing Libraries\n",
    "import pandas as pd\n",
    "import nltk\n",
    "from nltk.corpus import stopwords\n",
    "from nltk.sentiment.vader import SentimentIntensityAnalyzer\n",
    "\n",
    "# importing Dataset\n",
    "df = pd.read_csv(\"C:\\\\Users\\\\Zala Sheshang\\\\Desktop\\\\Cognifyz_Internship\\\\Dataset .csv\")"
   ]
  },
  {
   "cell_type": "code",
   "execution_count": 10,
   "id": "8544fd54",
   "metadata": {},
   "outputs": [
    {
     "name": "stdout",
     "output_type": "stream",
     "text": [
      "   Restaurant ID         Restaurant Name  Country Code              City  \\\n",
      "0        6317637        Le Petit Souffle           162       Makati City   \n",
      "1        6304287        Izakaya Kikufuji           162       Makati City   \n",
      "2        6300002  Heat - Edsa Shangri-La           162  Mandaluyong City   \n",
      "3        6318506                    Ooma           162  Mandaluyong City   \n",
      "4        6314302             Sambo Kojin           162  Mandaluyong City   \n",
      "\n",
      "                                             Address  \\\n",
      "0  Third Floor, Century City Mall, Kalayaan Avenu...   \n",
      "1  Little Tokyo, 2277 Chino Roces Avenue, Legaspi...   \n",
      "2  Edsa Shangri-La, 1 Garden Way, Ortigas, Mandal...   \n",
      "3  Third Floor, Mega Fashion Hall, SM Megamall, O...   \n",
      "4  Third Floor, Mega Atrium, SM Megamall, Ortigas...   \n",
      "\n",
      "                                     Locality  \\\n",
      "0   Century City Mall, Poblacion, Makati City   \n",
      "1  Little Tokyo, Legaspi Village, Makati City   \n",
      "2  Edsa Shangri-La, Ortigas, Mandaluyong City   \n",
      "3      SM Megamall, Ortigas, Mandaluyong City   \n",
      "4      SM Megamall, Ortigas, Mandaluyong City   \n",
      "\n",
      "                                    Locality Verbose   Longitude   Latitude  \\\n",
      "0  Century City Mall, Poblacion, Makati City, Mak...  121.027535  14.565443   \n",
      "1  Little Tokyo, Legaspi Village, Makati City, Ma...  121.014101  14.553708   \n",
      "2  Edsa Shangri-La, Ortigas, Mandaluyong City, Ma...  121.056831  14.581404   \n",
      "3  SM Megamall, Ortigas, Mandaluyong City, Mandal...  121.056475  14.585318   \n",
      "4  SM Megamall, Ortigas, Mandaluyong City, Mandal...  121.057508  14.584450   \n",
      "\n",
      "                           Cuisines  ...          Currency Has Table booking  \\\n",
      "0        French, Japanese, Desserts  ...  Botswana Pula(P)               Yes   \n",
      "1                          Japanese  ...  Botswana Pula(P)               Yes   \n",
      "2  Seafood, Asian, Filipino, Indian  ...  Botswana Pula(P)               Yes   \n",
      "3                   Japanese, Sushi  ...  Botswana Pula(P)                No   \n",
      "4                  Japanese, Korean  ...  Botswana Pula(P)               Yes   \n",
      "\n",
      "  Has Online delivery Is delivering now Switch to order menu Price range  \\\n",
      "0                  No                No                   No           3   \n",
      "1                  No                No                   No           3   \n",
      "2                  No                No                   No           4   \n",
      "3                  No                No                   No           4   \n",
      "4                  No                No                   No           4   \n",
      "\n",
      "   Aggregate rating  Rating color Rating text Votes  \n",
      "0               4.8    Dark Green   Excellent   314  \n",
      "1               4.5    Dark Green   Excellent   591  \n",
      "2               4.4         Green   Very Good   270  \n",
      "3               4.9    Dark Green   Excellent   365  \n",
      "4               4.8    Dark Green   Excellent   229  \n",
      "\n",
      "[5 rows x 21 columns]\n"
     ]
    },
    {
     "data": {
      "text/plain": [
       "0       Excellent\n",
       "1       Excellent\n",
       "2       Very Good\n",
       "3       Excellent\n",
       "4       Excellent\n",
       "          ...    \n",
       "9546    Very Good\n",
       "9547    Very Good\n",
       "9548         Good\n",
       "9549    Very Good\n",
       "9550    Very Good\n",
       "Name: Rating text, Length: 9551, dtype: object"
      ]
     },
     "execution_count": 10,
     "metadata": {},
     "output_type": "execute_result"
    }
   ],
   "source": [
    "# Find out Review text (Rating text)\n",
    "reviews = df['Rating text']\n",
    "reviews"
   ]
  },
  {
   "cell_type": "code",
   "execution_count": null,
   "id": "72abf2b2",
   "metadata": {},
   "outputs": [],
   "source": [
    "nltk.download('vader_lexicon')\n"
   ]
  },
  {
   "cell_type": "code",
   "execution_count": null,
   "id": "56e40daf",
   "metadata": {},
   "outputs": [],
   "source": [
    "df['Review text'] = df['Rating text'].fillna('')"
   ]
  },
  {
   "cell_type": "code",
   "execution_count": null,
   "id": "8c10e403",
   "metadata": {},
   "outputs": [],
   "source": [
    "sentiment_analyzer = SentimentIntensityAnalyzer()"
   ]
  },
  {
   "cell_type": "code",
   "execution_count": null,
   "id": "fe0d6621",
   "metadata": {},
   "outputs": [],
   "source": [
    "def get_sentiment_score(text):\n",
    "    return sentiment_analyzer.polarity_scores(text)['compound']\n",
    "\n",
    "df['Sentiment Score'] = reviews.apply(get_sentiment_score)\n",
    "df['Sentiment'] = df['Sentiment Score'].apply(lambda score: 'Positive' if score >= 0 else 'Negative')\n"
   ]
  },
  {
   "cell_type": "code",
   "execution_count": null,
   "id": "77ff64a4",
   "metadata": {},
   "outputs": [],
   "source": [
    "positive_keywords = {}\n",
    "negative_keywords = {}\n",
    "\n",
    "stop_words = set(stopwords.words('english'))\n",
    "\n",
    "for index, row in df.iterrows():\n",
    "    words = nltk.word_tokenize(row['Review text'].lower())\n",
    "    filtered_words = [word for word in words if word.isalpha() and word not in stop_words]\n",
    "    \n",
    "    for word in filtered_words:\n",
    "        if row['Sentiment'] == 'Positive':\n",
    "            positive_keywords[word] = positive_keywords.get(word, 0) + 1\n",
    "        else:\n",
    "            negative_keywords[word] = negative_keywords.get(word, 0) + 1"
   ]
  },
  {
   "cell_type": "code",
   "execution_count": null,
   "id": "63ed08e3",
   "metadata": {},
   "outputs": [],
   "source": [
    "top_positive_keywords = dict(sorted(positive_keywords.items(), key=lambda item: item[1], reverse=True)[:10])\n",
    "top_negative_keywords = dict(sorted(negative_keywords.items(), key=lambda item: item[1], reverse=True)[:10])\n",
    "\n",
    "\n",
    "print(\"Top 10 Positive Keywords:\", top_positive_keywords)\n",
    "print(\"Top 10 Negative Keywords:\", top_negative_keywords)"
   ]
  },
  {
   "cell_type": "code",
   "execution_count": null,
   "id": "267f7d45",
   "metadata": {},
   "outputs": [],
   "source": [
    "\n",
    "df['Review Length'] = df['Review text'].apply(lambda x: len(nltk.word_tokenize(x)))\n",
    "average_review_length = df['Review Length'].mean()\n"
   ]
  },
  {
   "cell_type": "code",
   "execution_count": 6,
   "id": "d7bbfb04",
   "metadata": {},
   "outputs": [
    {
     "ename": "NameError",
     "evalue": "name 'average_review_length' is not defined",
     "output_type": "error",
     "traceback": [
      "\u001b[1;31m---------------------------------------------------------------------------\u001b[0m",
      "\u001b[1;31mNameError\u001b[0m                                 Traceback (most recent call last)",
      "Cell \u001b[1;32mIn[6], line 1\u001b[0m\n\u001b[1;32m----> 1\u001b[0m \u001b[38;5;28mprint\u001b[39m(\u001b[38;5;124m\"\u001b[39m\u001b[38;5;124mAverage Review Length:\u001b[39m\u001b[38;5;124m\"\u001b[39m, average_review_length)\n",
      "\u001b[1;31mNameError\u001b[0m: name 'average_review_length' is not defined"
     ]
    }
   ],
   "source": [
    "print(\"Average Review Length:\", average_review_length)\n"
   ]
  },
  {
   "cell_type": "code",
   "execution_count": 7,
   "id": "6844964b",
   "metadata": {},
   "outputs": [],
   "source": [
    "import matplotlib.pyplot as plt\n"
   ]
  },
  {
   "cell_type": "code",
   "execution_count": 8,
   "id": "70ea6fca",
   "metadata": {},
   "outputs": [
    {
     "ename": "NameError",
     "evalue": "name 'df' is not defined",
     "output_type": "error",
     "traceback": [
      "\u001b[1;31m---------------------------------------------------------------------------\u001b[0m",
      "\u001b[1;31mNameError\u001b[0m                                 Traceback (most recent call last)",
      "Cell \u001b[1;32mIn[8], line 1\u001b[0m\n\u001b[1;32m----> 1\u001b[0m df[\u001b[38;5;124m'\u001b[39m\u001b[38;5;124mRating color\u001b[39m\u001b[38;5;124m'\u001b[39m] \u001b[38;5;241m=\u001b[39m pd\u001b[38;5;241m.\u001b[39mto_numeric(df[\u001b[38;5;124m'\u001b[39m\u001b[38;5;124mRating color\u001b[39m\u001b[38;5;124m'\u001b[39m], errors\u001b[38;5;241m=\u001b[39m\u001b[38;5;124m'\u001b[39m\u001b[38;5;124mcoerce\u001b[39m\u001b[38;5;124m'\u001b[39m)\n",
      "\u001b[1;31mNameError\u001b[0m: name 'df' is not defined"
     ]
    }
   ],
   "source": [
    "df['Rating color'] = pd.to_numeric(df['Rating color'], errors='coerce')"
   ]
  },
  {
   "cell_type": "code",
   "execution_count": null,
   "id": "4c05a4a2",
   "metadata": {},
   "outputs": [],
   "source": [
    "average_length_by_rating = df.groupby('Rating color')['Review Length'].mean()\n"
   ]
  },
  {
   "cell_type": "code",
   "execution_count": null,
   "id": "35a1c98b",
   "metadata": {},
   "outputs": [],
   "source": [
    "plt.scatter(df['Review Length'], df['Rating color'])\n",
    "plt.xlabel('Review Length')\n",
    "plt.ylabel('Rating color')\n",
    "plt.title('Review Length vs.Rating color')\n",
    "plt.show()\n"
   ]
  },
  {
   "cell_type": "code",
   "execution_count": 16,
   "id": "5c9aaf71",
   "metadata": {},
   "outputs": [
    {
     "name": "stdout",
     "output_type": "stream",
     "text": [
      "Correlation Coefficient between Review Length and Rating color: nan\n"
     ]
    }
   ],
   "source": [
    "correlation_coefficient = df['Review Length'].corr(df['Rating color'])\n",
    "print(\"Correlation Coefficient between Review Length and Rating color:\", correlation_coefficient)"
   ]
  }
 ],
 "metadata": {
  "kernelspec": {
   "display_name": "Python 3",
   "language": "python",
   "name": "python3"
  },
  "language_info": {
   "codemirror_mode": {
    "name": "ipython",
    "version": 3
   },
   "file_extension": ".py",
   "mimetype": "text/x-python",
   "name": "python",
   "nbconvert_exporter": "python",
   "pygments_lexer": "ipython3",
   "version": "3.11.7"
  }
 },
 "nbformat": 4,
 "nbformat_minor": 5
}
