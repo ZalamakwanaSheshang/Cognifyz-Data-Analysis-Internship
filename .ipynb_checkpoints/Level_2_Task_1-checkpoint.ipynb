{
 "cells": [
  {
   "cell_type": "markdown",
   "id": "155f8b86-6a85-4e4e-8e47-ab5315fb42a7",
   "metadata": {},
   "source": [
    "# Zalamakwana Sheshang N"
   ]
  },
  {
   "cell_type": "markdown",
   "id": "dfc1a4f7-cf33-41ac-93eb-47d709660352",
   "metadata": {},
   "source": [
    "# Level 2\n",
    "# Task 1: Restaurant Ratings\n",
    "# Analyze the distribution of aggregate ratings and determine the most common rating range.\n",
    "# Calculate the average number of votes received by restaurants."
   ]
  },
  {
   "cell_type": "markdown",
   "id": "780911c7-605c-41dc-932a-7ff44d089800",
   "metadata": {},
   "source": [
    "# 1. Importing Eseential Library and Dataset"
   ]
  },
  {
   "cell_type": "code",
   "execution_count": 1,
   "id": "20dd3b18",
   "metadata": {},
   "outputs": [],
   "source": [
    "# import libraries\n",
    "import pandas as pd\n",
    "import matplotlib.pyplot as plt\n",
    "\n",
    "# import dataset\n",
    "df = pd.read_csv(\"C:\\\\Users\\\\Zala Sheshang\\\\Desktop\\\\Cognifyz_Internship\\\\Dataset .csv\")"
   ]
  },
  {
   "cell_type": "markdown",
   "id": "8bb47ee9-401b-4f45-b033-1bf9cdeb11e1",
   "metadata": {},
   "source": [
    "# 2. Distribution of aggregate ratings"
   ]
  },
  {
   "cell_type": "code",
   "execution_count": 2,
   "id": "121c36fc",
   "metadata": {},
   "outputs": [
    {
     "name": "stdout",
     "output_type": "stream",
     "text": [
      "Aggregate rating\n",
      "0.0    2148\n",
      "1.8       1\n",
      "1.9       2\n",
      "2.0       7\n",
      "2.1      15\n",
      "2.2      27\n",
      "2.3      47\n",
      "2.4      87\n",
      "2.5     110\n",
      "2.6     191\n",
      "2.7     250\n",
      "2.8     315\n",
      "2.9     381\n",
      "3.0     468\n",
      "3.1     519\n",
      "3.2     522\n",
      "3.3     483\n",
      "3.4     498\n",
      "3.5     480\n",
      "3.6     458\n",
      "3.7     427\n",
      "3.8     400\n",
      "3.9     335\n",
      "4.0     266\n",
      "4.1     274\n",
      "4.2     221\n",
      "4.3     174\n",
      "4.4     144\n",
      "4.5      95\n",
      "4.6      78\n",
      "4.7      42\n",
      "4.8      25\n",
      "4.9      61\n",
      "Name: count, dtype: int64\n"
     ]
    }
   ],
   "source": [
    "# make a list of aggregate rating\n",
    "aggregate_ratings = df['Aggregate rating']\n",
    "\n",
    "#cont the frequency of aggregate rating \n",
    "rating_counts = aggregate_ratings.value_counts().sort_index()\n",
    "print(rating_counts)"
   ]
  },
  {
   "cell_type": "code",
   "execution_count": 3,
   "id": "1176b267-f8ab-4724-9f0d-8e970008aa1b",
   "metadata": {},
   "outputs": [
    {
     "data": {
      "image/png": "[encoded data removed]",
      "text/plain": [
       "<Figure size 640x480 with 1 Axes>"
      ]
     },
     "metadata": {},
     "output_type": "display_data"
    }
   ],
   "source": [
    "# histogram of aggregate rating distribution.\n",
    "plt.hist(aggregate_ratings, bins=10, edgecolor='red')\n",
    "plt.xlabel('Aggregate Ratings')\n",
    "plt.ylabel('Frequency')\n",
    "plt.title('Distribution of Aggregate Ratings')\n",
    "plt.show()"
   ]
  },
  {
   "cell_type": "markdown",
   "id": "3574de2d-6b17-475e-a9fd-f914d544bbc1",
   "metadata": {},
   "source": [
    " # 3. Determining the most common rating range."
   ]
  },
  {
   "cell_type": "code",
   "execution_count": 4,
   "id": "c3815157",
   "metadata": {},
   "outputs": [
    {
     "name": "stdout",
     "output_type": "stream",
     "text": [
      "The most common rating range: 0.0\n"
     ]
    }
   ],
   "source": [
    "# finding common rating range\n",
    "most_common_rating_range = rating_counts.idxmax()\n",
    "\n",
    "print(\"The most common rating range:\", most_common_rating_range)"
   ]
  },
  {
   "cell_type": "markdown",
   "id": "062acc7a-c6f7-4526-83f8-6de2f3c0b729",
   "metadata": {},
   "source": [
    "# 4. Average number of votes received by restaurants."
   ]
  },
  {
   "cell_type": "code",
   "execution_count": 5,
   "id": "669d45ad",
   "metadata": {},
   "outputs": [
    {
     "name": "stdout",
     "output_type": "stream",
     "text": [
      "Average number of votes received by restaurants: 156.909747670401\n"
     ]
    }
   ],
   "source": [
    "# find the average of 'Votes' column\n",
    "average_votes_no = df['Votes'].mean()\n",
    "\n",
    "print(\"Average number of votes received by restaurants:\", average_votes_no)"
   ]
  }
 ],
 "metadata": {
  "kernelspec": {
   "display_name": "Python 3",
   "language": "python",
   "name": "python3"
  },
  "language_info": {
   "codemirror_mode": {
    "name": "ipython",
    "version": 3
   },
   "file_extension": ".py",
   "mimetype": "text/x-python",
   "name": "python",
   "nbconvert_exporter": "python",
   "pygments_lexer": "ipython3",
   "version": "3.11.7"
  }
 },
 "nbformat": 4,
 "nbformat_minor": 5
}
