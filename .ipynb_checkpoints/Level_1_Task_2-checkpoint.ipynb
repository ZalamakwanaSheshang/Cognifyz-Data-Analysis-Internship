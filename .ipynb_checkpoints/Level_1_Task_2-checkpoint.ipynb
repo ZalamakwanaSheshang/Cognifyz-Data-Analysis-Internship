{
 "cells": [
  {
   "cell_type": "markdown",
   "id": "7acb9863-86b9-400e-bc78-0bd31ffefa3e",
   "metadata": {
    "jp-MarkdownHeadingCollapsed": true
   },
   "source": [
    "# Zalamakwana Sheshang N"
   ]
  },
  {
   "cell_type": "markdown",
   "id": "dd52d202-3e59-4cce-99cd-f3e8a587fbc8",
   "metadata": {},
   "source": [
    "# Level 1\n",
    "### Task 2: City Analysis\n",
    "### Identify the city with the highest number of restaurants in the dataset.\n",
    "### Calculate the average rating for restaurants in each city.\n",
    "### Determine the city with the highest average rating."
   ]
  },
  {
   "cell_type": "markdown",
   "id": "162a31af-244b-443a-9a15-b77dea3721d8",
   "metadata": {},
   "source": [
    "# 1. Importing Essential Library and Dataset"
   ]
  },
  {
   "cell_type": "code",
   "execution_count": 1,
   "id": "25dac828",
   "metadata": {},
   "outputs": [],
   "source": [
    "import pandas as pd\n",
    "df = pd.read_csv(\"C:\\\\Users\\\\Zala Sheshang\\\\Desktop\\\\Cognifyz_Internship\\\\Dataset .csv\")"
   ]
  },
  {
   "cell_type": "markdown",
   "id": "136e895b-e0c7-4f51-a76a-7b4d492ce918",
   "metadata": {},
   "source": [
    "# 2. Getting overview of data"
   ]
  },
  {
   "cell_type": "code",
   "execution_count": 2,
   "id": "30935a27",
   "metadata": {},
   "outputs": [
    {
     "name": "stdout",
     "output_type": "stream",
     "text": [
      "   Restaurant ID         Restaurant Name  Country Code              City  \\\n",
      "0        6317637        Le Petit Souffle           162       Makati City   \n",
      "1        6304287        Izakaya Kikufuji           162       Makati City   \n",
      "2        6300002  Heat - Edsa Shangri-La           162  Mandaluyong City   \n",
      "3        6318506                    Ooma           162  Mandaluyong City   \n",
      "4        6314302             Sambo Kojin           162  Mandaluyong City   \n",
      "\n",
      "                                             Address  \\\n",
      "0  Third Floor, Century City Mall, Kalayaan Avenu...   \n",
      "1  Little Tokyo, 2277 Chino Roces Avenue, Legaspi...   \n",
      "2  Edsa Shangri-La, 1 Garden Way, Ortigas, Mandal...   \n",
      "3  Third Floor, Mega Fashion Hall, SM Megamall, O...   \n",
      "4  Third Floor, Mega Atrium, SM Megamall, Ortigas...   \n",
      "\n",
      "                                     Locality  \\\n",
      "0   Century City Mall, Poblacion, Makati City   \n",
      "1  Little Tokyo, Legaspi Village, Makati City   \n",
      "2  Edsa Shangri-La, Ortigas, Mandaluyong City   \n",
      "3      SM Megamall, Ortigas, Mandaluyong City   \n",
      "4      SM Megamall, Ortigas, Mandaluyong City   \n",
      "\n",
      "                                    Locality Verbose   Longitude   Latitude  \\\n",
      "0  Century City Mall, Poblacion, Makati City, Mak...  121.027535  14.565443   \n",
      "1  Little Tokyo, Legaspi Village, Makati City, Ma...  121.014101  14.553708   \n",
      "2  Edsa Shangri-La, Ortigas, Mandaluyong City, Ma...  121.056831  14.581404   \n",
      "3  SM Megamall, Ortigas, Mandaluyong City, Mandal...  121.056475  14.585318   \n",
      "4  SM Megamall, Ortigas, Mandaluyong City, Mandal...  121.057508  14.584450   \n",
      "\n",
      "                           Cuisines  ...          Currency Has Table booking  \\\n",
      "0        French, Japanese, Desserts  ...  Botswana Pula(P)               Yes   \n",
      "1                          Japanese  ...  Botswana Pula(P)               Yes   \n",
      "2  Seafood, Asian, Filipino, Indian  ...  Botswana Pula(P)               Yes   \n",
      "3                   Japanese, Sushi  ...  Botswana Pula(P)                No   \n",
      "4                  Japanese, Korean  ...  Botswana Pula(P)               Yes   \n",
      "\n",
      "  Has Online delivery Is delivering now Switch to order menu Price range  \\\n",
      "0                  No                No                   No           3   \n",
      "1                  No                No                   No           3   \n",
      "2                  No                No                   No           4   \n",
      "3                  No                No                   No           4   \n",
      "4                  No                No                   No           4   \n",
      "\n",
      "   Aggregate rating  Rating color Rating text Votes  \n",
      "0               4.8    Dark Green   Excellent   314  \n",
      "1               4.5    Dark Green   Excellent   591  \n",
      "2               4.4         Green   Very Good   270  \n",
      "3               4.9    Dark Green   Excellent   365  \n",
      "4               4.8    Dark Green   Excellent   229  \n",
      "\n",
      "[5 rows x 21 columns]\n"
     ]
    }
   ],
   "source": [
    "print(df.head())"
   ]
  },
  {
   "cell_type": "markdown",
   "id": "04605cac-b957-449d-b2f1-1e7e62d10d56",
   "metadata": {},
   "source": [
    "# 3. City with the highest number of restaurants (Using value_count())"
   ]
  },
  {
   "cell_type": "code",
   "execution_count": 3,
   "id": "d5e7c923",
   "metadata": {},
   "outputs": [
    {
     "name": "stdout",
     "output_type": "stream",
     "text": [
      "City\n",
      "New Delhi    5473\n",
      "Gurgaon      1118\n",
      "Noida        1080\n",
      "Name: count, dtype: int64\n",
      "City with the highest number of restaurants: New Delhi\n"
     ]
    }
   ],
   "source": [
    "city_counts = df['City'].value_counts()\n",
    "print(city_counts.head(3))\n",
    "\n",
    "city_with_most_restaurants = city_counts.index[0] # index[] helps to find value at perticular index\n",
    "print(f\"City with the highest number of restaurants: {city_with_most_restaurants}\")"
   ]
  },
  {
   "cell_type": "markdown",
   "id": "a280a68f-b5e2-450b-86e4-b3d02646aaab",
   "metadata": {},
   "source": [
    "# 4. Average rating for restaurants in each city"
   ]
  },
  {
   "cell_type": "code",
   "execution_count": 4,
   "id": "9b4e13de",
   "metadata": {},
   "outputs": [
    {
     "name": "stdout",
     "output_type": "stream",
     "text": [
      "Average ratings for restaurants in each city:\n",
      "City\n",
      "Abu Dhabi          4.300000\n",
      "Agra               3.965000\n",
      "Ahmedabad          4.161905\n",
      "Albany             3.555000\n",
      "Allahabad          3.395000\n",
      "                     ...   \n",
      "Weirton            3.900000\n",
      "Wellington City    4.250000\n",
      "Winchester Bay     3.200000\n",
      "Yorkton            3.300000\n",
      "��stanbul          4.292857\n",
      "Name: Aggregate rating, Length: 141, dtype: float64\n"
     ]
    }
   ],
   "source": [
    "average_ratings_in_city = df.groupby('City')['Aggregate rating'].mean()\n",
    "print(\"Average ratings for restaurants in each city:\")\n",
    "print(average_ratings_in_city)"
   ]
  },
  {
   "cell_type": "markdown",
   "id": "4f195f61-1397-403a-bd98-e046b1640e64",
   "metadata": {},
   "source": [
    "# 5. The city with the highest average rating"
   ]
  },
  {
   "cell_type": "code",
   "execution_count": 5,
   "id": "04931e15",
   "metadata": {},
   "outputs": [
    {
     "name": "stdout",
     "output_type": "stream",
     "text": [
      " The city with the highest average rating is Inner City with 4.9 average rating.\n"
     ]
    }
   ],
   "source": [
    "city_with_highest_average_rating = average_ratings_in_city.idxmax()\n",
    "highest_rating_value = average_ratings_in_city.loc[city_with_highest_average_rating]\n",
    "print(f\" The city with the highest average rating is {city_with_highest_average_rating} with {highest_rating_value} average rating.\" )"
   ]
  }
 ],
 "metadata": {
  "kernelspec": {
   "display_name": "Python 3",
   "language": "python",
   "name": "python3"
  },
  "language_info": {
   "codemirror_mode": {
    "name": "ipython",
    "version": 3
   },
   "file_extension": ".py",
   "mimetype": "text/x-python",
   "name": "python",
   "nbconvert_exporter": "python",
   "pygments_lexer": "ipython3",
   "version": "3.11.7"
  }
 },
 "nbformat": 4,
 "nbformat_minor": 5
}
