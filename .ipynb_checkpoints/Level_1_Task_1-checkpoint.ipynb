{
 "cells": [
  {
   "cell_type": "markdown",
   "id": "c27d0236-b98b-47c3-a309-4c460c459f50",
   "metadata": {
    "jp-MarkdownHeadingCollapsed": true
   },
   "source": [
    "# Zalamakwana Sheshang N"
   ]
  },
  {
   "cell_type": "markdown",
   "id": "3e6e4ab8-340f-4db3-88df-e053d44528be",
   "metadata": {},
   "source": [
    "# Level 1\n",
    "### Task 1: Top Cuisines\n",
    "### Determine the top three most common cuisines in the dataset.\n",
    "### Calculate the percentage of restaurants that serve each of the top cuisines.\n"
   ]
  },
  {
   "cell_type": "markdown",
   "id": "fc18264d-95be-49a7-babf-cc142b9c77e9",
   "metadata": {},
   "source": [
    "# 1. Importing Essential Library"
   ]
  },
  {
   "cell_type": "code",
   "execution_count": 1,
   "id": "12f68c30",
   "metadata": {},
   "outputs": [],
   "source": [
    "import pandas as pd\n",
    "import matplotlib.pyplot as plt"
   ]
  },
  {
   "cell_type": "markdown",
   "id": "0f912d74-3286-42f9-96de-ed3229476199",
   "metadata": {},
   "source": [
    "# 2. Importing Dataset"
   ]
  },
  {
   "cell_type": "code",
   "execution_count": 2,
   "id": "d26b494b",
   "metadata": {},
   "outputs": [],
   "source": [
    "df = pd.read_csv(\"C:\\\\Users\\\\Zala Sheshang\\\\Desktop\\\\Cognifyz_Internship\\\\Dataset .csv\")"
   ]
  },
  {
   "cell_type": "markdown",
   "id": "9268d677-232f-406b-b221-106ad83d9f6a",
   "metadata": {},
   "source": [
    "# 3. Printing first 5 rows of data for overview"
   ]
  },
  {
   "cell_type": "code",
   "execution_count": 3,
   "id": "24da2148",
   "metadata": {},
   "outputs": [
    {
     "name": "stdout",
     "output_type": "stream",
     "text": [
      "   Restaurant ID         Restaurant Name  Country Code              City  \\\n",
      "0        6317637        Le Petit Souffle           162       Makati City   \n",
      "1        6304287        Izakaya Kikufuji           162       Makati City   \n",
      "2        6300002  Heat - Edsa Shangri-La           162  Mandaluyong City   \n",
      "3        6318506                    Ooma           162  Mandaluyong City   \n",
      "4        6314302             Sambo Kojin           162  Mandaluyong City   \n",
      "\n",
      "                                             Address  \\\n",
      "0  Third Floor, Century City Mall, Kalayaan Avenu...   \n",
      "1  Little Tokyo, 2277 Chino Roces Avenue, Legaspi...   \n",
      "2  Edsa Shangri-La, 1 Garden Way, Ortigas, Mandal...   \n",
      "3  Third Floor, Mega Fashion Hall, SM Megamall, O...   \n",
      "4  Third Floor, Mega Atrium, SM Megamall, Ortigas...   \n",
      "\n",
      "                                     Locality  \\\n",
      "0   Century City Mall, Poblacion, Makati City   \n",
      "1  Little Tokyo, Legaspi Village, Makati City   \n",
      "2  Edsa Shangri-La, Ortigas, Mandaluyong City   \n",
      "3      SM Megamall, Ortigas, Mandaluyong City   \n",
      "4      SM Megamall, Ortigas, Mandaluyong City   \n",
      "\n",
      "                                    Locality Verbose   Longitude   Latitude  \\\n",
      "0  Century City Mall, Poblacion, Makati City, Mak...  121.027535  14.565443   \n",
      "1  Little Tokyo, Legaspi Village, Makati City, Ma...  121.014101  14.553708   \n",
      "2  Edsa Shangri-La, Ortigas, Mandaluyong City, Ma...  121.056831  14.581404   \n",
      "3  SM Megamall, Ortigas, Mandaluyong City, Mandal...  121.056475  14.585318   \n",
      "4  SM Megamall, Ortigas, Mandaluyong City, Mandal...  121.057508  14.584450   \n",
      "\n",
      "                           Cuisines  ...          Currency Has Table booking  \\\n",
      "0        French, Japanese, Desserts  ...  Botswana Pula(P)               Yes   \n",
      "1                          Japanese  ...  Botswana Pula(P)               Yes   \n",
      "2  Seafood, Asian, Filipino, Indian  ...  Botswana Pula(P)               Yes   \n",
      "3                   Japanese, Sushi  ...  Botswana Pula(P)                No   \n",
      "4                  Japanese, Korean  ...  Botswana Pula(P)               Yes   \n",
      "\n",
      "  Has Online delivery Is delivering now Switch to order menu Price range  \\\n",
      "0                  No                No                   No           3   \n",
      "1                  No                No                   No           3   \n",
      "2                  No                No                   No           4   \n",
      "3                  No                No                   No           4   \n",
      "4                  No                No                   No           4   \n",
      "\n",
      "   Aggregate rating  Rating color Rating text Votes  \n",
      "0               4.8    Dark Green   Excellent   314  \n",
      "1               4.5    Dark Green   Excellent   591  \n",
      "2               4.4         Green   Very Good   270  \n",
      "3               4.9    Dark Green   Excellent   365  \n",
      "4               4.8    Dark Green   Excellent   229  \n",
      "\n",
      "[5 rows x 21 columns]\n"
     ]
    }
   ],
   "source": [
    "print(df.head(5))"
   ]
  },
  {
   "cell_type": "markdown",
   "id": "116572e3-3aef-4e54-b3eb-9afb6126561f",
   "metadata": {},
   "source": [
    "# 4. Count the frequncy of Cuisines\n",
    "## The value_counts() method is used in Python, particularly with the pandas library to count the occurrences of each unique value in a series or a DataFrame column."
   ]
  },
  {
   "cell_type": "code",
   "execution_count": 4,
   "id": "922ce8d8",
   "metadata": {},
   "outputs": [
    {
     "data": {
      "text/plain": [
       "Cuisines\n",
       "North Indian                                             936\n",
       "North Indian, Chinese                                    511\n",
       "Chinese                                                  354\n",
       "Fast Food                                                354\n",
       "North Indian, Mughlai                                    334\n",
       "                                                        ... \n",
       "Bengali, Fast Food                                         1\n",
       "North Indian, Rajasthani, Asian                            1\n",
       "Chinese, Thai, Malaysian, Indonesian                       1\n",
       "Bakery, Desserts, North Indian, Bengali, South Indian      1\n",
       "Italian, World Cuisine                                     1\n",
       "Name: count, Length: 1825, dtype: int64"
      ]
     },
     "execution_count": 4,
     "metadata": {},
     "output_type": "execute_result"
    }
   ],
   "source": [
    "cuisine_counts = df['Cuisines'].value_counts()\n",
    "cuisine_counts"
   ]
  },
  {
   "cell_type": "markdown",
   "id": "638ae3f8-037f-4780-b297-1473a1836642",
   "metadata": {},
   "source": [
    "# 5. Print Top Cuisines for batter understanding"
   ]
  },
  {
   "cell_type": "code",
   "execution_count": 5,
   "id": "4714666b",
   "metadata": {},
   "outputs": [
    {
     "data": {
      "text/plain": [
       "Cuisines\n",
       "North Indian             936\n",
       "North Indian, Chinese    511\n",
       "Chinese                  354\n",
       "Fast Food                354\n",
       "North Indian, Mughlai    334\n",
       "Name: count, dtype: int64"
      ]
     },
     "execution_count": 5,
     "metadata": {},
     "output_type": "execute_result"
    }
   ],
   "source": [
    "top_cuisines = cuisine_counts.head(5)\n",
    "top_cuisines"
   ]
  },
  {
   "cell_type": "markdown",
   "id": "1c98fbfa-921e-4eba-9e91-a8e3a46d5a7c",
   "metadata": {},
   "source": [
    "# 6. Find out top three Cuisines"
   ]
  },
  {
   "cell_type": "code",
   "execution_count": 6,
   "id": "fad19d92-e29e-4588-a393-5e1835212a81",
   "metadata": {},
   "outputs": [
    {
     "data": {
      "text/plain": [
       "Cuisines\n",
       "North Indian             936\n",
       "North Indian, Chinese    511\n",
       "Chinese                  354\n",
       "Fast Food                354\n",
       "Name: count, dtype: int64"
      ]
     },
     "execution_count": 6,
     "metadata": {},
     "output_type": "execute_result"
    }
   ],
   "source": [
    "top3_cuisines = cuisine_counts.head(4)\n",
    "top3_cuisines"
   ]
  },
  {
   "cell_type": "markdown",
   "id": "ff39c5f5-e977-4e24-a9eb-96053fd9b950",
   "metadata": {},
   "source": [
    "# 7. Total number of restaurants"
   ]
  },
  {
   "cell_type": "code",
   "execution_count": 7,
   "id": "25152bd9",
   "metadata": {},
   "outputs": [
    {
     "name": "stdout",
     "output_type": "stream",
     "text": [
      "Total Number of Restaurants:  9551\n",
      "Cuisines\n",
      "North Indian             9.800021\n",
      "North Indian, Chinese    5.350225\n",
      "Chinese                  3.706418\n",
      "Fast Food                3.706418\n",
      "Name: count, dtype: float64\n"
     ]
    }
   ],
   "source": [
    "total_restaurants = len(df)\n",
    "percentages = (top3_cuisines/total_restaurants)*100\n",
    "\n",
    "print(\"Total Number of Restaurants: \",total_restaurants)\n",
    "print(percentages)"
   ]
  },
  {
   "cell_type": "markdown",
   "id": "6b7fcdab-49de-4cec-a9be-f8c37d2ba9a9",
   "metadata": {},
   "source": [
    "# 8. Visualizing  top 3 cuisines through bar chart."
   ]
  },
  {
   "cell_type": "code",
   "execution_count": 8,
   "id": "a1d3a402",
   "metadata": {},
   "outputs": [
    {
     "data": {
      "image/png": "[encoded data removed]",
      "text/plain": [
       "<Figure size 640x480 with 1 Axes>"
      ]
     },
     "metadata": {},
     "output_type": "display_data"
    }
   ],
   "source": [
    "import numpy as np\n",
    "\n",
    "# Define the colors for the bars\n",
    "colors = ['Blue', 'green', 'brown', 'skyblue']\n",
    "\n",
    "# Plot the bar chart with colors\n",
    "plt.bar(top3_cuisines.index, top3_cuisines.values, color=colors)\n",
    "\n",
    "# Add labels and title\n",
    "plt.xlabel('Cuisine',)\n",
    "plt.ylabel('Count')\n",
    "plt.xticks(rotation=10)\n",
    "plt.title('Top Three Cuisines')\n",
    "\n",
    "# Show the chart\n",
    "plt.show()\n"
   ]
  },
  {
   "cell_type": "markdown",
   "id": "f387a953-bc02-466a-bacc-8fe31cab0a3b",
   "metadata": {},
   "source": [
    "# 9. Visualizing  top 3 cuisines through pia chart."
   ]
  },
  {
   "cell_type": "code",
   "execution_count": 9,
   "id": "3d2bd581",
   "metadata": {},
   "outputs": [
    {
     "data": {
      "image/png": "[encoded data removed]",
      "text/plain": [
       "<Figure size 640x480 with 1 Axes>"
      ]
     },
     "metadata": {},
     "output_type": "display_data"
    }
   ],
   "source": [
    "plt.pie(top3_cuisines.values, labels=top3_cuisines.index, autopct='%1.1f%%', colors=colors)\n",
    "plt.title('Top Three Cuisines')\n",
    "plt.show()"
   ]
  }
 ],
 "metadata": {
  "kernelspec": {
   "display_name": "Python 3",
   "language": "python",
   "name": "python3"
  },
  "language_info": {
   "codemirror_mode": {
    "name": "ipython",
    "version": 3
   },
   "file_extension": ".py",
   "mimetype": "text/x-python",
   "name": "python",
   "nbconvert_exporter": "python",
   "pygments_lexer": "ipython3",
   "version": "3.11.7"
  }
 },
 "nbformat": 4,
 "nbformat_minor": 5
}
